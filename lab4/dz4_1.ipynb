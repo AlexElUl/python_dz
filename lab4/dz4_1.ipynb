{
 "cells": [
  {
   "cell_type": "code",
   "execution_count": null,
   "metadata": {},
   "outputs": [],
   "source": [
    "import datetime as dt"
   ]
  },
  {
   "cell_type": "code",
   "execution_count": 2,
   "metadata": {},
   "outputs": [
    {
     "name": "stdout",
     "output_type": "stream",
     "text": [
      "2024-11-27 23:02:19.959563\n",
      "40 days, 0:00:00\n",
      "2024-01-01\n",
      "Где-то была допущена ошибка\n",
      "2024-02-01\n"
     ]
    }
   ],
   "source": [
    "#  Задание №1\n",
    "class work_with_Date:\n",
    "\n",
    "    def __init__(self):\n",
    "        pass\n",
    "    \n",
    "    def current_datetime(self):\n",
    "        current_datetime = dt.datetime.now()\n",
    "        return current_datetime\n",
    "    \n",
    "    def datetime_diff(self, date1, date2):\n",
    "        if type(date1) == dt.date or type(date1) == dt.date and type(date2) == dt.date or type(date2) == dt.date:\n",
    "            diff = date1 - date2\n",
    "            return diff\n",
    "    \n",
    "    def to_Date(self, string):\n",
    "        if type(string) == str:\n",
    "            flag = False\n",
    "\n",
    "            try:\n",
    "                date = dt.datetime.strptime(string, \"%Y-%m-%d\").date()\n",
    "                flag = True\n",
    "            except ValueError:\n",
    "                pass\n",
    "            except UnboundLocalError:\n",
    "                pass\n",
    "\n",
    "            try:\n",
    "                date = dt.datetime.strptime(string, \"%d-%m-%Y\").date()\n",
    "                flag = True\n",
    "            except ValueError:\n",
    "                pass\n",
    "            except UnboundLocalError:\n",
    "                pass\n",
    "\n",
    "            if flag == True:\n",
    "                return date\n",
    "            else:\n",
    "                return \"Где-то была допущена ошибка\"\n",
    "        \n",
    "        else:\n",
    "            return \"Неправильный входящий тип данных\"\n",
    "\n",
    "            \n",
    "        \n",
    "# Проверка\n",
    "dt1 = dt.date(2024, 12, 11)\n",
    "dt2 = dt.date(2024, 11, 1)\n",
    "dt3 = '01-01-2024'\n",
    "dt4 = '2024-02-asd'\n",
    "dt5 = '2024-02-01'\n",
    "wwd = work_with_Date()\n",
    "print(wwd.current_datetime())        \n",
    "print(wwd.datetime_diff(date1=dt1, date2=dt2))\n",
    "print(wwd.to_Date(dt3))\n",
    "print(wwd.to_Date(dt4))\n",
    "print(wwd.to_Date(dt5))"
   ]
  }
 ],
 "metadata": {
  "kernelspec": {
   "display_name": "Python 3",
   "language": "python",
   "name": "python3"
  },
  "language_info": {
   "codemirror_mode": {
    "name": "ipython",
    "version": 3
   },
   "file_extension": ".py",
   "mimetype": "text/x-python",
   "name": "python",
   "nbconvert_exporter": "python",
   "pygments_lexer": "ipython3",
   "version": "3.11.3"
  }
 },
 "nbformat": 4,
 "nbformat_minor": 2
}
