{
 "cells": [
  {
   "cell_type": "code",
   "execution_count": null,
   "metadata": {},
   "outputs": [
    {
     "name": "stdout",
     "output_type": "stream",
     "text": [
      "Файла с таким названием нет\n",
      "1 2 3 4 5 6\n",
      "\n",
      "0 10 11 12\n",
      "\n",
      "Ошибка в строчке 3\n",
      "Ошибка в строчке 4\n",
      "-1 0 12\n",
      "\n",
      "-12 -1 -2 0 12\n",
      "\n",
      "Ошибка в строчке 7\n",
      "-1 2\n",
      "<class 'list'>\n"
     ]
    }
   ],
   "source": [
    "# Задание №1\n",
    "\n",
    "def file_open(text):\n",
    "    try:\n",
    "        file = open(text)\n",
    "        f = file.readlines()\n",
    "        number_cicle(f)\n",
    "        print(type(f))\n",
    "    except FileNotFoundError:\n",
    "        print('Файла с таким названием нет')\n",
    "\n",
    "def number_cicle(num):\n",
    "    for i in range(len(num)):\n",
    "        flag = False\n",
    "        for n in range(len(num[i])):\n",
    "            if num[i][n] != ' ' and num[i][n] != '\\n'and num[i][n] != '-':\n",
    "                try:\n",
    "                    int(num[i][n])\n",
    "                \n",
    "                except ValueError:\n",
    "                    flag = True\n",
    "        if flag != True:\n",
    "            print(num[i])\n",
    "        else:\n",
    "            print(f'Ошибка в строчке {i + 1}')\n",
    "            flag = False\n",
    "\n",
    "# Проверка            \n",
    "\n",
    "a = file_open('text1.txt')\n",
    "b = file_open('text.txt')"
   ]
  },
  {
   "cell_type": "code",
   "execution_count": null,
   "metadata": {},
   "outputs": [
    {
     "name": "stdout",
     "output_type": "stream",
     "text": [
      "1\n",
      "2\n",
      "3\n",
      "4\n",
      "5\n",
      "Буфер переполнен\n",
      "['123', 10, 9.831, 'Abcdefg', 121]\n",
      "Буфер пуст\n"
     ]
    }
   ],
   "source": [
    "# Задание № 2\n",
    "\n",
    "class Buffer:\n",
    "    def __init__(self): \n",
    "        self.buffer = []\n",
    "\n",
    "    def add_data(self, data):\n",
    "        if len(self.buffer) < 5:\n",
    "            self.buffer.append(data)\n",
    "            print(len(self.buffer))\n",
    "        else:\n",
    "            print('Буфер переполнен')\n",
    "        \n",
    "    def get_data(self):\n",
    "        if len(self.buffer) != 0:\n",
    "            print(self.buffer)\n",
    "            return self.buffer\n",
    "        else:\n",
    "            print('Буфер пуст')\n",
    "\n",
    "# Проверка            \n",
    "            \n",
    "buffer1 = Buffer()\n",
    "buffer2 = Buffer()\n",
    "\n",
    "buffer1.add_data('123')\n",
    "buffer1.add_data(10)\n",
    "buffer1.add_data(9.831)\n",
    "buffer1.add_data('Abcdefg')\n",
    "buffer1.add_data(121)\n",
    "buffer1.add_data('Проверка')\n",
    "\n",
    "buffer1.get_data()\n",
    "buffer2.get_data()\n"
   ]
  }
 ],
 "metadata": {
  "kernelspec": {
   "display_name": "Python 3",
   "language": "python",
   "name": "python3"
  },
  "language_info": {
   "codemirror_mode": {
    "name": "ipython",
    "version": 3
   },
   "file_extension": ".py",
   "mimetype": "text/x-python",
   "name": "python",
   "nbconvert_exporter": "python",
   "pygments_lexer": "ipython3",
   "version": "3.13.0"
  }
 },
 "nbformat": 4,
 "nbformat_minor": 2
}
