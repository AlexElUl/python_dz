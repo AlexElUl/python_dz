{
 "cells": [
  {
   "cell_type": "code",
   "execution_count": 31,
   "metadata": {},
   "outputs": [
    {
     "name": "stdout",
     "output_type": "stream",
     "text": [
      "Файла с таким названием нет\n",
      "1234 12 2 1\n",
      "11111111111\n",
      "123 -1 -2 3\n",
      "Ошибка в строчке: 4 -> - <-\n",
      "22 -22 1000\n",
      "31 31 31 -3\n",
      "Ошибка в строчке: 7 -> - <-\n",
      "Ошибка в строчке: 8 -> a <-\n",
      "Ошибка в строчке: 9 -> p <-\n",
      "-10000\n",
      "1\n",
      "100\n",
      "<class 'list'>\n"
     ]
    }
   ],
   "source": [
    "def file_open(text):\n",
    "    try:\n",
    "        file = open(text)\n",
    "        f = file.readlines()\n",
    "        number_cicle(f)\n",
    "        print(type(f))\n",
    "    except FileNotFoundError:\n",
    "        print('Файла с таким названием нет')\n",
    "\n",
    "def number_cicle(num):\n",
    "    for i in range(len(num)): # 6 строк\n",
    "        n = num[i]\n",
    "        list_len = []\n",
    "        check_list = []\n",
    "        for s in range(len(n)):\n",
    "            if n[s] != ' ' and n[s] != '\\n':\n",
    "            # print(n[s], type(n[s])) # все строки\n",
    "                list_len += [1]\n",
    "                if n[s] != '-':\n",
    "                    try:\n",
    "                        int(n[s])\n",
    "                        check_list += [1]\n",
    "                    except ValueError:\n",
    "                        print('Ошибка в строчке:', i + 1, '->', n[s], '<-')\n",
    "                        break\n",
    "                else:\n",
    "                    try:\n",
    "                        int(n[s+1])\n",
    "                        check_list += [1, 1]\n",
    "                        list_len += [1]\n",
    "                        s += 1\n",
    "                    except ValueError:\n",
    "                        print('Ошибка в строчке:', i + 1, '->', n[s], '<-')\n",
    "                        break\n",
    "                    \n",
    "        if list_len == check_list:\n",
    "               print(n[:-1])\n",
    "        \n",
    "\n",
    "a = file_open('text1.txt')\n",
    "b = file_open('text.txt')"
   ]
  },
  {
   "cell_type": "code",
   "execution_count": 2,
   "metadata": {},
   "outputs": [
    {
     "name": "stdout",
     "output_type": "stream",
     "text": [
      "1\n",
      "2\n",
      "3\n",
      "4\n",
      "5\n",
      "Буфер переполнен\n",
      "['123', 10, 9.831, 'Abcdefg', 121]\n",
      "Буфер пуст\n"
     ]
    }
   ],
   "source": [
    "# Задание № 2\n",
    "\n",
    "class Buffer:\n",
    "    def __init__(self): \n",
    "        self.buffer = []\n",
    "\n",
    "    def add_data(self, data):\n",
    "        if len(self.buffer) < 5:\n",
    "            self.buffer.append(data)\n",
    "            print(len(self.buffer))\n",
    "        else:\n",
    "            print('Буфер переполнен')\n",
    "        \n",
    "    def get_data(self):\n",
    "        if len(self.buffer) != 0:\n",
    "            print(self.buffer)\n",
    "            return self.buffer\n",
    "        else:\n",
    "            print('Буфер пуст')\n",
    "\n",
    "# Проверка            \n",
    "            \n",
    "buffer1 = Buffer()\n",
    "buffer2 = Buffer()\n",
    "\n",
    "buffer1.add_data('123')\n",
    "buffer1.add_data(10)\n",
    "buffer1.add_data(9.831)\n",
    "buffer1.add_data('Abcdefg')\n",
    "buffer1.add_data(121)\n",
    "buffer1.add_data('Проверка')\n",
    "\n",
    "buffer1.get_data()\n",
    "buffer2.get_data()\n"
   ]
  }
 ],
 "metadata": {
  "kernelspec": {
   "display_name": "Python 3",
   "language": "python",
   "name": "python3"
  },
  "language_info": {
   "codemirror_mode": {
    "name": "ipython",
    "version": 3
   },
   "file_extension": ".py",
   "mimetype": "text/x-python",
   "name": "python",
   "nbconvert_exporter": "python",
   "pygments_lexer": "ipython3",
   "version": "3.11.3"
  }
 },
 "nbformat": 4,
 "nbformat_minor": 2
}
